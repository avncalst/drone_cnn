{
  "nbformat": 4,
  "nbformat_minor": 0,
  "metadata": {
    "language_info": {
      "codemirror_mode": {
        "name": "ipython",
        "version": 3
      },
      "file_extension": ".py",
      "mimetype": "text/x-python",
      "name": "python",
      "nbconvert_exporter": "python",
      "pygments_lexer": "ipython3",
      "version": "3.6.9"
    },
    "orig_nbformat": 2,
    "kernelspec": {
      "name": "python36964bit074770ead2524b5d9a7ea4d600c2d1d8",
      "display_name": "Python 3.6.9 64-bit"
    },
    "colab": {
      "name": "quantClass.ipynb",
      "provenance": [],
      "collapsed_sections": [],
      "include_colab_link": true
    },
    "accelerator": "GPU",
    "metadata": {
      "interpreter": {
        "hash": "31f2aee4e71d21fbe5cf8b01ff0e069b9275f58929596ceb00d14d90e3e16cd6"
      }
    }
  },
  "cells": [
    {
      "cell_type": "markdown",
      "metadata": {
        "id": "view-in-github",
        "colab_type": "text"
      },
      "source": [
        "<a href=\"https://colab.research.google.com/github/avncalst/drone_cnn/blob/master/quantClass.ipynb\" target=\"_parent\"><img src=\"https://colab.research.google.com/assets/colab-badge.svg\" alt=\"Open In Colab\"/></a>"
      ]
    },
    {
      "cell_type": "code",
      "metadata": {
        "colab": {
          "base_uri": "https://localhost:8080/"
        },
        "id": "KGDtBIJSkQj1",
        "outputId": "a4cc0ab3-4b0f-451e-8778-189eaa9958a3"
      },
      "source": [
        "!pip install -q tf-nightly\n",
        "!pip install -q tensorflow-model-optimization"
      ],
      "execution_count": 1,
      "outputs": [
        {
          "output_type": "stream",
          "text": [
            "\u001b[K     |████████████████████████████████| 453.3MB 34kB/s \n",
            "\u001b[K     |████████████████████████████████| 5.9MB 46.7MB/s \n",
            "\u001b[K     |████████████████████████████████| 4.2MB 39.2MB/s \n",
            "\u001b[K     |████████████████████████████████| 1.3MB 38.6MB/s \n",
            "\u001b[K     |████████████████████████████████| 471kB 51.0MB/s \n",
            "\u001b[K     |████████████████████████████████| 4.0MB 45.2MB/s \n",
            "\u001b[K     |████████████████████████████████| 4.9MB 32.6MB/s \n",
            "\u001b[31mERROR: tensorflow 2.4.1 has requirement gast==0.3.3, but you'll have gast 0.4.0 which is incompatible.\u001b[0m\n",
            "\u001b[31mERROR: tensorflow 2.4.1 has requirement grpcio~=1.32.0, but you'll have grpcio 1.37.1 which is incompatible.\u001b[0m\n",
            "\u001b[31mERROR: tensorflow 2.4.1 has requirement h5py~=2.10.0, but you'll have h5py 3.1.0 which is incompatible.\u001b[0m\n",
            "\u001b[K     |████████████████████████████████| 174kB 7.9MB/s \n",
            "\u001b[?25h"
          ],
          "name": "stdout"
        }
      ]
    },
    {
      "cell_type": "code",
      "metadata": {
        "colab": {
          "base_uri": "https://localhost:8080/"
        },
        "id": "ud2ksi_Gk3QZ",
        "outputId": "5d08c7d3-b878-42e1-f43c-9ddb3113e35b"
      },
      "source": [
        "from google.colab import drive\n",
        "drive.mount('/content/drive')"
      ],
      "execution_count": 2,
      "outputs": [
        {
          "output_type": "stream",
          "text": [
            "Mounted at /content/drive\n"
          ],
          "name": "stdout"
        }
      ]
    },
    {
      "cell_type": "code",
      "metadata": {
        "colab": {
          "base_uri": "https://localhost:8080/"
        },
        "id": "RR3w_GrkkqGm",
        "outputId": "dd32177d-7f05-4cd5-fa71-40ceaac388f2"
      },
      "source": [
        "# create symbolic link\n",
        "!ln -s \"drive/MyDrive/Colab Notebooks/Tensorflow\" \"./Tensorflow\"\n",
        "!dir"
      ],
      "execution_count": 3,
      "outputs": [
        {
          "output_type": "stream",
          "text": [
            "drive  sample_data  Tensorflow\n"
          ],
          "name": "stdout"
        }
      ]
    },
    {
      "cell_type": "markdown",
      "metadata": {
        "id": "ecsGlsh5MJq0"
      },
      "source": [
        "# 0. Setup Paths + load modules"
      ]
    },
    {
      "cell_type": "code",
      "metadata": {
        "id": "1QEY3yGXkQkL"
      },
      "source": [
        "import tensorflow as tf\n",
        "import pandas as pd\n",
        "import imageio\n",
        "import re\n",
        "import random\n",
        "import cv2\n",
        "import json\n",
        "import glob\n",
        "import pathlib\n",
        "import PIL\n",
        "\n",
        "from tensorflow.keras.applications import MobileNetV2\n",
        "import tensorflow_model_optimization as tfmot\n",
        "import matplotlib.pyplot as plt\n",
        "import numpy as np\n",
        "import time\n",
        "import shutil\n",
        "import os\n",
        "import argparse\n",
        "import ntpath\n",
        "import psutil\n",
        "from imutils import paths\n",
        "import PIL.ImageDraw as ImageDraw\n",
        "\n",
        "\n",
        "\n",
        "\n",
        "from tensorflow.keras.layers import Permute,Reshape\n",
        "from tensorflow.keras.layers import Flatten\n",
        "from tensorflow.keras.layers import Dense\n",
        "from tensorflow.keras.layers import Input\n",
        "from tensorflow.keras.layers import GlobalAveragePooling2D\n",
        "from tensorflow.keras.layers import Dropout\n",
        "from tensorflow.keras.models import Model\n",
        "from tensorflow.keras.models import load_model\n",
        "from tensorflow.keras.optimizers import Adam\n",
        "from tensorflow.keras.callbacks import ModelCheckpoint,TensorBoard,EarlyStopping\n",
        "from tensorflow.keras.preprocessing.image import img_to_array\n",
        "from tensorflow.keras.preprocessing.image import load_img\n",
        "from tensorflow.keras.utils import get_file\n",
        "\n"
      ],
      "execution_count": 4,
      "outputs": []
    },
    {
      "cell_type": "markdown",
      "metadata": {
        "id": "JovNDkoRMfMe"
      },
      "source": [
        "# 1. Images"
      ]
    },
    {
      "cell_type": "markdown",
      "metadata": {
        "id": "mG7Ye6nVq5wZ"
      },
      "source": [
        "### Convert Donkeycar data files"
      ]
    },
    {
      "cell_type": "code",
      "metadata": {
        "tags": [],
        "id": "9OW0IafSkQkP",
        "outputId": "b68e827f-a950-4e40-fea7-b565b8550c5c"
      },
      "source": [
        "# Convert donkeycar images (tub-format) to class-files (left,right,fly,stop)\n",
        "\n",
        "source = '/home/avncalst/Dropbox/donkeycar/mycar/data/mccb/tub_7_20-03-18'\n",
        "imag_path = 'Tensorflow/workspace/images/train'\n",
        "\n",
        "# list_json = glob.glob(\"/home/avncalst/Dropbox/donkeycar/mycar/data/mccb/tub_7_20-03-18/*.json\")\n",
        "list_json = glob.glob(source + '/*.json')\n",
        "# print(list_json[0])\n",
        "df = pd.DataFrame([pd.read_json(list_json[0],typ='series')])\n",
        "for itx, f in enumerate(list_json):\n",
        "    # print(itx,f)\n",
        "    df1 = pd.DataFrame([pd.read_json(f,typ='series')])\n",
        "    df = df.append(df1,ignore_index=True)\n",
        "df = df.drop_duplicates()\n",
        "df.tail()\n",
        "\n",
        "\n",
        "left = os.path.join(imag_path, 'left')\n",
        "if not os.path.exists(left):\n",
        "        os.makedirs(left)\n",
        "right = os.path.join(imag_path, 'right')\n",
        "if not os.path.exists(right):\n",
        "        os.makedirs(right)\n",
        "fly = os.path.join(imag_path, 'fly')\n",
        "if not os.path.exists(fly):\n",
        "        os.makedirs(fly)\n",
        "stop = os.path.join(imag_path, 'stop')\n",
        "if not os.path.exists(stop):\n",
        "        os.makedirs(stop)\n",
        "\n",
        "column = df['cam/image_array']\n",
        "clas = df['user/angle']\n",
        " \n",
        "\n",
        "for angle,fil in zip(clas,column):\n",
        "    # print(angle,fil)\n",
        "    if int(10*angle) == -3:\n",
        "        shutil.copy(source + '/' + fil, left)\n",
        "        # print(fil)\n",
        "    if int(10*angle) == 3:\n",
        "        shutil.copy(source + '/' + fil, right)\n",
        "        # print(fil)\n",
        "    if int(10*angle) == -9:\n",
        "        shutil.copy(source + '/' + fil, fly)\n",
        "        # print(fil)\n",
        "    if int(10*angle) == 9:\n",
        "        shutil.copy(source + '/' + fil, stop)\n",
        "        # print(fil)\n",
        "\n",
        "df.head()"
      ],
      "execution_count": null,
      "outputs": [
        {
          "output_type": "execute_result",
          "data": {
            "text/plain": [
              "             cam/image_array  user/angle  user/throttle user/mode  \\\n",
              "0  2011_cam-image_array_.jpg         0.9            0.0      user   \n",
              "2   692_cam-image_array_.jpg        -0.9            0.0      user   \n",
              "3   273_cam-image_array_.jpg        -0.9            0.0      user   \n",
              "4  1873_cam-image_array_.jpg         0.3            0.0      user   \n",
              "5  1144_cam-image_array_.jpg        -0.3            0.0      user   \n",
              "\n",
              "   milliseconds  \n",
              "0        204983  \n",
              "2         70527  \n",
              "3         27813  \n",
              "4        190917  \n",
              "5        116605  "
            ],
            "text/html": [
              "<div>\n",
              "<style scoped>\n",
              "    .dataframe tbody tr th:only-of-type {\n",
              "        vertical-align: middle;\n",
              "    }\n",
              "\n",
              "    .dataframe tbody tr th {\n",
              "        vertical-align: top;\n",
              "    }\n",
              "\n",
              "    .dataframe thead th {\n",
              "        text-align: right;\n",
              "    }\n",
              "</style>\n",
              "<table border=\"1\" class=\"dataframe\">\n",
              "  <thead>\n",
              "    <tr style=\"text-align: right;\">\n",
              "      <th></th>\n",
              "      <th>cam/image_array</th>\n",
              "      <th>user/angle</th>\n",
              "      <th>user/throttle</th>\n",
              "      <th>user/mode</th>\n",
              "      <th>milliseconds</th>\n",
              "    </tr>\n",
              "  </thead>\n",
              "  <tbody>\n",
              "    <tr>\n",
              "      <th>0</th>\n",
              "      <td>2011_cam-image_array_.jpg</td>\n",
              "      <td>0.9</td>\n",
              "      <td>0.0</td>\n",
              "      <td>user</td>\n",
              "      <td>204983</td>\n",
              "    </tr>\n",
              "    <tr>\n",
              "      <th>2</th>\n",
              "      <td>692_cam-image_array_.jpg</td>\n",
              "      <td>-0.9</td>\n",
              "      <td>0.0</td>\n",
              "      <td>user</td>\n",
              "      <td>70527</td>\n",
              "    </tr>\n",
              "    <tr>\n",
              "      <th>3</th>\n",
              "      <td>273_cam-image_array_.jpg</td>\n",
              "      <td>-0.9</td>\n",
              "      <td>0.0</td>\n",
              "      <td>user</td>\n",
              "      <td>27813</td>\n",
              "    </tr>\n",
              "    <tr>\n",
              "      <th>4</th>\n",
              "      <td>1873_cam-image_array_.jpg</td>\n",
              "      <td>0.3</td>\n",
              "      <td>0.0</td>\n",
              "      <td>user</td>\n",
              "      <td>190917</td>\n",
              "    </tr>\n",
              "    <tr>\n",
              "      <th>5</th>\n",
              "      <td>1144_cam-image_array_.jpg</td>\n",
              "      <td>-0.3</td>\n",
              "      <td>0.0</td>\n",
              "      <td>user</td>\n",
              "      <td>116605</td>\n",
              "    </tr>\n",
              "  </tbody>\n",
              "</table>\n",
              "</div>"
            ]
          },
          "metadata": {
            "tags": []
          },
          "execution_count": 2
        }
      ]
    },
    {
      "cell_type": "markdown",
      "metadata": {
        "id": "fQunbGjsSzsd"
      },
      "source": [
        "### Check image doubles"
      ]
    },
    {
      "cell_type": "code",
      "metadata": {
        "tags": [],
        "id": "GXEK0K46Szse",
        "outputId": "3c81a633-2511-412f-c933-5a961a3fe058"
      },
      "source": [
        "# USAGE\n",
        "# python detect_and_remove.py --dataset dataset\n",
        "# python detect_and_remove.py --dataset dataset --remove 1\n",
        "#----------------------------------------------------------------\n",
        "# remove = -1\n",
        "remove = 1\n",
        "#----------------------------------------------------------------\n",
        "\n",
        "def dhash(image, hashSize=8):\n",
        "\t# convert the image to grayscale and resize the grayscale image,\n",
        "\t# adding a single column (width) so we can compute the horizontal\n",
        "\t# gradient\n",
        "    \n",
        "    gray = cv2.cvtColor(image, cv2.COLOR_BGR2GRAY)\n",
        "    resized = cv2.resize(gray, (hashSize + 1, hashSize))\n",
        "\n",
        "    # compute the (relative) horizontal gradient between adjacent\n",
        "    # column pixels\n",
        "    diff = resized[:, 1:] > resized[:, :-1]\n",
        "\n",
        "    # convert the difference image to a hash and return it\n",
        "    return sum([2 ** i for (i, v) in enumerate(diff.flatten()) if v])\n",
        "\n",
        "data_dir = 'Tensorflow/workspace/images/train'\n",
        "data_dir = pathlib.Path(data_dir)\n",
        "imagePaths = list(data_dir.glob('left/*')) + list(data_dir.glob('right/*')) + list(data_dir.glob('stop/*')) + list(data_dir.glob('fly/*'))\n",
        "\n",
        "# print(list(data_dir.glob('left/*')))\n",
        "\n",
        "\n",
        "# grab the paths to all images in our input dataset directory and\n",
        "# then initialize our hashes dictionary\n",
        "print(\"[INFO] computing image hashes...\")\n",
        "# imagePaths = list(paths.list_images(args[\"dataset\"]))\n",
        "hashes = {}\n",
        "\n",
        "# loop over our image paths\n",
        "for imagePath in imagePaths:\n",
        "    # load the input image and compute the hash\n",
        "    image = cv2.imread(str(imagePath))\n",
        "    h = dhash(image)\n",
        "    \n",
        "\n",
        "    # grab all image paths with that hash, add the current image\n",
        "    # path to it, and store the list back in the hashes dictionary\n",
        "    p = hashes.get(h, [])\n",
        "    p.append(imagePath)\n",
        "    hashes[h] = p\n",
        "\n",
        "# loop over the image hashes\n",
        "for (h, hashedPaths) in hashes.items():\n",
        "\t# check to see if there is more than one image with the same hash\n",
        "    if len(hashedPaths) > 1:\n",
        "\t\t# check to see if this is a dry run\n",
        "        if remove <= 0:\n",
        "            # initialize a montage to store all images with the same\n",
        "            # hash\n",
        "            montage = None\n",
        "\n",
        "            # loop over all image paths with the same hash\n",
        "            for p in hashedPaths:\n",
        "                # load the input image and resize it to a fixed width\n",
        "                # and height\n",
        "                image = cv2.imread(str(p))\n",
        "                image = cv2.resize(image, (150, 150))\n",
        "\n",
        "                # if our montage is None, initialize it\n",
        "                if montage is None:\n",
        "                    montage = image\n",
        "\n",
        "                # otherwise, horizontally stack the images\n",
        "                else:\n",
        "                    montage = np.hstack([montage, image])\n",
        "\n",
        "            # show the montage for the hash\n",
        "            print(\"[INFO] hash: {}\".format(h))\n",
        "            montage = cv2.cvtColor(montage, cv2.COLOR_BGR2RGB)\n",
        "            img = PIL.Image.fromarray(montage)\n",
        "            img.show()\n",
        "\n",
        " \n",
        "\t\t# otherwise, we'll be removing the duplicate images\n",
        "        else:\n",
        "\t\t\t# loop over all image paths with the same hash *except*\n",
        "\t\t\t# for the first image in the list (since we want to keep\n",
        "\t\t\t# one, and only one, of the duplicate images)\n",
        "            for p in hashedPaths[1:]:\n",
        "                os.remove(p)\n",
        "            print(\"[INFO] doubles removed...\")\n",
        "print(\"[INFO] finished\")"
      ],
      "execution_count": null,
      "outputs": [
        {
          "output_type": "stream",
          "text": [
            "[INFO] computing image hashes...\n",
            "[INFO] finished\n"
          ],
          "name": "stdout"
        }
      ]
    },
    {
      "cell_type": "markdown",
      "metadata": {
        "id": "TwSXgq1LSzsi"
      },
      "source": [
        "### populate image classes and check images"
      ]
    },
    {
      "cell_type": "code",
      "metadata": {
        "tags": [
          "outputPrepend"
        ],
        "id": "WyhRcyDASzsm",
        "outputId": "62d92c54-7034-482f-ff9d-90a51f4b47c0"
      },
      "source": [
        "data_source = 'Tensorflow/workspace/images/source/'\n",
        "data_left = 'Tensorflow/workspace/images/train/left/'\n",
        "data_right = 'Tensorflow/workspace/images/train/right/'\n",
        "data_stop = 'Tensorflow/workspace/images/train/stop/'\n",
        "data_fly = 'Tensorflow/workspace/images/train/fly/'\n",
        "src = {'source':data_source,'left':data_left,'right':data_right,'stop':data_stop,'fly':data_fly}\n",
        "\n",
        "#========================================================\n",
        "dir_select = 'right' # select:left, right,fly,stop,source\n",
        "#========================================================\n",
        "\n",
        "imagePats = list(paths.list_images(src[dir_select]))\n",
        "ntpath.basename(src[dir_select])\n",
        "\n",
        "\n",
        "width = 160\n",
        "height = 120\n",
        "i = 0\n",
        "\n",
        "\n",
        "\n",
        "for imagePat in imagePats:\n",
        "    head, tail = ntpath.split(str(imagePat))\n",
        "    print(i,head)\n",
        "    print(i,tail)\n",
        "    i+=1\n",
        "    im = PIL.Image.open(str(imagePat))\n",
        "    im = im.resize((width, height), PIL.Image.ANTIALIAS)\n",
        "    im.save(str(imagePat))\n",
        "    draw = ImageDraw.Draw(im) \n",
        "    draw.line((53,0, 53,120), fill=128,width=3)\n",
        "    draw.line((106,0, 106,120), fill=128,width=3)\n",
        "    draw.line((0,40, 160,40), fill=128,width=3)\n",
        "    draw.line((0,80, 160,80), fill=128,width=3)\n",
        "    draw.line\n",
        "    im.show()\n",
        "    \n",
        "    while True:\n",
        "        txt = input(\"f,r,l,s -select dir,n -no action,b -break,d -delete\")\n",
        "        if txt == dir_select[:1]:\n",
        "            print('cannot move to working dir')\n",
        "        else:\n",
        "            break\n",
        "        \n",
        "    if txt == 'f':\n",
        "        shutil.move(str(imagePat), os.path.join(data_fly, tail))\n",
        "        print('file moved to folder fly')\n",
        "    if txt == 'l':\n",
        "        shutil.move(str(imagePat), os.path.join(data_left, tail))\n",
        "        print('file moved to folder left')\n",
        "    if txt == 'r':\n",
        "        shutil.move(str(imagePat), os.path.join(data_right, tail))\n",
        "        print('file moved to folder right')        \n",
        "    if txt == 's':\n",
        "        shutil.move(str(imagePat), os.path.join(data_stop, tail))\n",
        "        print('file moved to folder stop')\n",
        "    if txt == 'n':\n",
        "        pass\n",
        "    if txt == 'b':\n",
        "        break\n",
        "    if txt == 'd':\n",
        "        os.remove(str(imagePat))\n",
        "        print('file deleted')\n",
        "\n",
        "\n",
        "    # PIL image.show() yields a new process. To stop kill process with name display\n",
        "    for proc in psutil.process_iter(): # traverse the current process\n",
        "        # print(proc.name)\n",
        "        if proc.name() == \"display\": # If the name of the process is display\n",
        "            proc.kill() # Close the process\n",
        "\n",
        "for proc in psutil.process_iter(): # traverse the current process\n",
        "        # print(proc.name)\n",
        "        if proc.name() == \"display\": # If the name of the process is display\n",
        "            proc.kill() # Close the process\n",
        "    \n",
        "    "
      ],
      "execution_count": null,
      "outputs": [
        {
          "output_type": "stream",
          "text": [
            "space/images/train/right\n",
            "193 1772_cam-image_array_.jpg\n",
            "194 Tensorflow/workspace/images/train/right\n",
            "194 1852_cam-image_array_.jpg\n",
            "195 Tensorflow/workspace/images/train/right\n",
            "195 1704_cam-image_array_.jpg\n",
            "196 Tensorflow/workspace/images/train/right\n",
            "196 right0272.jpg\n",
            "197 Tensorflow/workspace/images/train/right\n",
            "197 1925_cam-image_array_.jpg\n",
            "198 Tensorflow/workspace/images/train/right\n",
            "198 right0140.jpg\n",
            "199 Tensorflow/workspace/images/train/right\n",
            "199 right0088.jpg\n",
            "200 Tensorflow/workspace/images/train/right\n",
            "200 right0270.jpg\n",
            "201 Tensorflow/workspace/images/train/right\n",
            "201 right0282.jpg\n",
            "202 Tensorflow/workspace/images/train/right\n",
            "202 right0299.jpg\n",
            "203 Tensorflow/workspace/images/train/right\n",
            "203 1859_cam-image_array_.jpg\n",
            "204 Tensorflow/workspace/images/train/right\n",
            "204 right0279.jpg\n",
            "205 Tensorflow/workspace/images/train/right\n",
            "205 right0289.jpg\n",
            "206 Tensorflow/workspace/images/train/right\n",
            "206 1757_cam-image_array_.jpg\n",
            "207 Tensorflow/workspace/images/train/right\n",
            "207 right0084.jpg\n",
            "208 Tensorflow/workspace/images/train/right\n",
            "208 1773_cam-image_array_.jpg\n",
            "209 Tensorflow/workspace/images/train/right\n",
            "209 right00017.jpg\n",
            "210 Tensorflow/workspace/images/train/right\n",
            "210 1687_cam-image_array_.jpg\n",
            "211 Tensorflow/workspace/images/train/right\n",
            "211 right0062.jpg\n",
            "212 Tensorflow/workspace/images/train/right\n",
            "212 1747_cam-image_array_.jpg\n",
            "213 Tensorflow/workspace/images/train/right\n",
            "213 right0018.jpg\n",
            "214 Tensorflow/workspace/images/train/right\n",
            "214 right00005.jpg\n",
            "215 Tensorflow/workspace/images/train/right\n",
            "215 1854_cam-image_array_.jpg\n",
            "216 Tensorflow/workspace/images/train/right\n",
            "216 1785_cam-image_array_.jpg\n",
            "217 Tensorflow/workspace/images/train/right\n",
            "217 right0132.jpg\n",
            "218 Tensorflow/workspace/images/train/right\n",
            "218 right0021.jpg\n",
            "219 Tensorflow/workspace/images/train/right\n",
            "219 right00015.jpg\n",
            "220 Tensorflow/workspace/images/train/right\n",
            "220 1664_cam-image_array_.jpg\n",
            "221 Tensorflow/workspace/images/train/right\n",
            "221 1708_cam-image_array_.jpg\n",
            "222 Tensorflow/workspace/images/train/right\n",
            "222 right0033.jpg\n"
          ],
          "name": "stdout"
        }
      ]
    },
    {
      "cell_type": "markdown",
      "metadata": {
        "id": "yohIGt9PrEGA"
      },
      "source": [
        "### Define data directory containing class data-files"
      ]
    },
    {
      "cell_type": "code",
      "metadata": {
        "colab": {
          "base_uri": "https://localhost:8080/",
          "height": 154
        },
        "id": "lH8M6fLFkQkV",
        "outputId": "a5fee133-aa34-4bb9-ca9c-11f584143bfb"
      },
      "source": [
        "data_dir = 'Tensorflow/workspace/images/train'\n",
        "data_dir = pathlib.Path(data_dir)\n",
        "image_count = len(list(data_dir.glob('*/*.jpg')))\n",
        "print(image_count)\n",
        "imag = list(data_dir.glob('left/*'))\n",
        "PIL.Image.open(str(imag[0]))\n"
      ],
      "execution_count": 5,
      "outputs": [
        {
          "output_type": "stream",
          "text": [
            "1857\n"
          ],
          "name": "stdout"
        },
        {
          "output_type": "execute_result",
          "data": {
            "image/png": "[encoded data removed]",
            "text/plain": [
              "<PIL.JpegImagePlugin.JpegImageFile image mode=RGB size=160x120 at 0x7FCC915D00D0>"
            ]
          },
          "metadata": {
            "tags": []
          },
          "execution_count": 5
        }
      ]
    },
    {
      "cell_type": "markdown",
      "metadata": {
        "id": "ulCySy_7NBqd"
      },
      "source": [
        "# 2. Train & Validation data"
      ]
    },
    {
      "cell_type": "code",
      "metadata": {
        "colab": {
          "base_uri": "https://localhost:8080/"
        },
        "id": "8Es_ZgG7kQkb",
        "outputId": "72d1d9c3-f6f7-44c2-f3c7-3a5799f13e18"
      },
      "source": [
        "batch_size = 32\n",
        "img_height = 224\n",
        "img_width = 224\n",
        "# generates data and labels (0,1,2,3) from data directory\n",
        "train_ds = tf.keras.preprocessing.image_dataset_from_directory(\n",
        "  data_dir,\n",
        "  validation_split=0.2,\n",
        "  color_mode='rgb',\n",
        "  subset=\"training\",\n",
        "  seed=123,\n",
        "  image_size=(img_height, img_width),\n",
        "  batch_size=batch_size)\n",
        "\n",
        "val_ds = tf.keras.preprocessing.image_dataset_from_directory(\n",
        "  data_dir,\n",
        "  validation_split=0.2,\n",
        "  color_mode='rgb',\n",
        "  subset=\"validation\",\n",
        "  seed=123,\n",
        "  image_size=(img_height, img_width),\n",
        "  batch_size=batch_size)"
      ],
      "execution_count": 6,
      "outputs": [
        {
          "output_type": "stream",
          "text": [
            "Found 1857 files belonging to 4 classes.\n",
            "Using 1486 files for training.\n",
            "Found 1857 files belonging to 4 classes.\n",
            "Using 371 files for validation.\n"
          ],
          "name": "stdout"
        }
      ]
    },
    {
      "cell_type": "code",
      "metadata": {
        "id": "5ILOu3eakQkk"
      },
      "source": [
        "# Normalization utils\n",
        "def normalize_img(img, label):\n",
        "    img = tf.cast(img, tf.float32) / 255.\n",
        "    return (img, label)"
      ],
      "execution_count": 7,
      "outputs": []
    },
    {
      "cell_type": "code",
      "metadata": {
        "id": "kSqMYgWKkQkl",
        "colab": {
          "base_uri": "https://localhost:8080/"
        },
        "outputId": "f9f73372-21a4-4968-e348-0f7e95b7d357"
      },
      "source": [
        "train_ds = train_ds.map(normalize_img)\n",
        "val_ds = val_ds.map(normalize_img)\n",
        "# check normalization\n",
        "image_batch, labels_batch = next(iter(train_ds))\n",
        "first_image = image_batch[0]\n",
        "first_label = labels_batch[0]\n",
        "print(np.min(first_image), np.max(first_image))\n",
        "print(first_label)\n",
        "\n",
        "# or use:\n",
        "\n",
        "# train_ds = train_ds.map(lambda x, y: (normalization_layer(x), y))\n",
        "# val_ds = val_ds.map(lambda x, y: (normalization_layer(x), y))\n",
        "# image_batch, labels_batch = next(iter(train_ds))\n",
        "# first_image = image_batch[0]\n",
        "# first_label = labels_batch[0]\n",
        "# # Notice the pixels values are now in `[0,1]`.\n",
        "# print(np.min(first_image), np.max(first_image))\n",
        "# print(first_label)"
      ],
      "execution_count": 8,
      "outputs": [
        {
          "output_type": "stream",
          "text": [
            "0.0 0.9993497\n",
            "tf.Tensor(0, shape=(), dtype=int32)\n"
          ],
          "name": "stdout"
        }
      ]
    },
    {
      "cell_type": "markdown",
      "metadata": {
        "id": "HoVkHDw7OWc2"
      },
      "source": [
        "# 3. Model Quantized Transfer Learning"
      ]
    },
    {
      "cell_type": "code",
      "metadata": {
        "id": "Ydvgp6q_kQkn"
      },
      "source": [
        "def get_training_model():\n",
        "    EXTRACTOR = MobileNetV2(weights=\"imagenet\", include_top=False,\n",
        "        input_shape=(224, 224, 3))\n",
        "    EXTRACTOR.trainable = True\n",
        "    class_head = EXTRACTOR.output\n",
        "    class_head = GlobalAveragePooling2D()(class_head)\n",
        "    class_head = Dense(512, activation=\"relu\")(class_head)\n",
        "    class_head = Dropout(0.5)(class_head)\n",
        "    class_head = Dense(4, activation=\"softmax\")(class_head)\n",
        "    classifier = Model(inputs=EXTRACTOR.input, outputs=class_head)\n",
        "    \n",
        "    return classifier"
      ],
      "execution_count": 9,
      "outputs": []
    },
    {
      "cell_type": "markdown",
      "metadata": {
        "id": "FQbSgPl9O5lW"
      },
      "source": [
        "# 4. Train model"
      ]
    },
    {
      "cell_type": "code",
      "metadata": {
        "colab": {
          "base_uri": "https://localhost:8080/"
        },
        "id": "0aLnpYwKkQkp",
        "outputId": "dfb840dc-8adf-44c0-d2a6-0cf26aa15bed"
      },
      "source": [
        "quant_model = get_training_model()\n",
        "q_quant_model = tfmot.quantization.keras.quantize_model(quant_model)\n",
        "q_quant_model.compile(loss=\"sparse_categorical_crossentropy\", \n",
        "                          optimizer=tf.keras.optimizers.Adam(1e-5),\n",
        "                          metrics=[\"accuracy\"])\n",
        "start = time.time()\n",
        "history = q_quant_model.fit(train_ds,\n",
        "              validation_data=val_ds,\n",
        "              epochs=30)\n",
        "end = time.time()-start\n",
        "print(\"Model takes {} seconds to train \",end)"
      ],
      "execution_count": 10,
      "outputs": [
        {
          "output_type": "stream",
          "text": [
            "Downloading data from https://storage.googleapis.com/tensorflow/keras-applications/mobilenet_v2/mobilenet_v2_weights_tf_dim_ordering_tf_kernels_1.0_224_no_top.h5\n",
            "9412608/9406464 [==============================] - 0s 0us/step\n"
          ],
          "name": "stdout"
        },
        {
          "output_type": "stream",
          "text": [
            "/usr/local/lib/python3.7/dist-packages/tensorflow/python/keras/utils/generic_utils.py:497: CustomMaskWarning: Custom mask layers require a config and must override get_config. When loading, the custom mask layer must be passed to the custom_objects argument.\n",
            "  category=CustomMaskWarning)\n"
          ],
          "name": "stderr"
        },
        {
          "output_type": "stream",
          "text": [
            "Epoch 1/30\n",
            "47/47 [==============================] - 423s 9s/step - loss: 1.2750 - accuracy: 0.4495 - val_loss: 1.1630 - val_accuracy: 0.5445\n",
            "Epoch 2/30\n",
            "47/47 [==============================] - 343s 7s/step - loss: 0.9224 - accuracy: 0.6528 - val_loss: 1.0444 - val_accuracy: 0.5903\n",
            "Epoch 3/30\n",
            "47/47 [==============================] - 340s 7s/step - loss: 0.7311 - accuracy: 0.7429 - val_loss: 0.9286 - val_accuracy: 0.6415\n",
            "Epoch 4/30\n",
            "47/47 [==============================] - 339s 7s/step - loss: 0.6264 - accuracy: 0.7900 - val_loss: 0.8252 - val_accuracy: 0.6873\n",
            "Epoch 5/30\n",
            "47/47 [==============================] - 337s 7s/step - loss: 0.5096 - accuracy: 0.8311 - val_loss: 0.7587 - val_accuracy: 0.7332\n",
            "Epoch 6/30\n",
            "47/47 [==============================] - 335s 7s/step - loss: 0.4468 - accuracy: 0.8486 - val_loss: 0.7207 - val_accuracy: 0.7601\n",
            "Epoch 7/30\n",
            "47/47 [==============================] - 336s 7s/step - loss: 0.3936 - accuracy: 0.8688 - val_loss: 0.6552 - val_accuracy: 0.7736\n",
            "Epoch 8/30\n",
            "47/47 [==============================] - 335s 7s/step - loss: 0.3520 - accuracy: 0.8769 - val_loss: 0.5717 - val_accuracy: 0.8194\n",
            "Epoch 9/30\n",
            "47/47 [==============================] - 332s 7s/step - loss: 0.3055 - accuracy: 0.9011 - val_loss: 0.5587 - val_accuracy: 0.8275\n",
            "Epoch 10/30\n",
            "47/47 [==============================] - 331s 7s/step - loss: 0.2860 - accuracy: 0.9105 - val_loss: 0.5317 - val_accuracy: 0.8221\n",
            "Epoch 11/30\n",
            "47/47 [==============================] - 331s 7s/step - loss: 0.2435 - accuracy: 0.9152 - val_loss: 0.5047 - val_accuracy: 0.8410\n",
            "Epoch 12/30\n",
            "47/47 [==============================] - 333s 7s/step - loss: 0.2168 - accuracy: 0.9273 - val_loss: 0.4940 - val_accuracy: 0.8437\n",
            "Epoch 13/30\n",
            "47/47 [==============================] - 333s 7s/step - loss: 0.1942 - accuracy: 0.9435 - val_loss: 0.5049 - val_accuracy: 0.8383\n",
            "Epoch 14/30\n",
            "47/47 [==============================] - 331s 7s/step - loss: 0.1812 - accuracy: 0.9455 - val_loss: 0.4851 - val_accuracy: 0.8491\n",
            "Epoch 15/30\n",
            "47/47 [==============================] - 331s 7s/step - loss: 0.1566 - accuracy: 0.9542 - val_loss: 0.4763 - val_accuracy: 0.8571\n",
            "Epoch 16/30\n",
            "47/47 [==============================] - 339s 7s/step - loss: 0.1620 - accuracy: 0.9522 - val_loss: 0.4376 - val_accuracy: 0.8652\n",
            "Epoch 17/30\n",
            "47/47 [==============================] - 334s 7s/step - loss: 0.1178 - accuracy: 0.9670 - val_loss: 0.4283 - val_accuracy: 0.8706\n",
            "Epoch 18/30\n",
            "47/47 [==============================] - 337s 7s/step - loss: 0.1311 - accuracy: 0.9603 - val_loss: 0.4458 - val_accuracy: 0.8518\n",
            "Epoch 19/30\n",
            "47/47 [==============================] - 334s 7s/step - loss: 0.0954 - accuracy: 0.9791 - val_loss: 0.4219 - val_accuracy: 0.8679\n",
            "Epoch 20/30\n",
            "47/47 [==============================] - 334s 7s/step - loss: 0.0979 - accuracy: 0.9771 - val_loss: 0.4370 - val_accuracy: 0.8544\n",
            "Epoch 21/30\n",
            "47/47 [==============================] - 331s 7s/step - loss: 0.0776 - accuracy: 0.9812 - val_loss: 0.4000 - val_accuracy: 0.8733\n",
            "Epoch 22/30\n",
            "47/47 [==============================] - 326s 7s/step - loss: 0.0704 - accuracy: 0.9838 - val_loss: 0.3700 - val_accuracy: 0.8787\n",
            "Epoch 23/30\n",
            "47/47 [==============================] - 332s 7s/step - loss: 0.0633 - accuracy: 0.9865 - val_loss: 0.4067 - val_accuracy: 0.8706\n",
            "Epoch 24/30\n",
            "47/47 [==============================] - 329s 7s/step - loss: 0.0563 - accuracy: 0.9892 - val_loss: 0.3917 - val_accuracy: 0.8652\n",
            "Epoch 25/30\n",
            "47/47 [==============================] - 328s 7s/step - loss: 0.0477 - accuracy: 0.9886 - val_loss: 0.3579 - val_accuracy: 0.8814\n",
            "Epoch 26/30\n",
            "47/47 [==============================] - 326s 7s/step - loss: 0.0523 - accuracy: 0.9872 - val_loss: 0.3386 - val_accuracy: 0.8868\n",
            "Epoch 27/30\n",
            "47/47 [==============================] - 329s 7s/step - loss: 0.0421 - accuracy: 0.9926 - val_loss: 0.3279 - val_accuracy: 0.8787\n",
            "Epoch 28/30\n",
            "47/47 [==============================] - 330s 7s/step - loss: 0.0330 - accuracy: 0.9953 - val_loss: 0.3294 - val_accuracy: 0.8841\n",
            "Epoch 29/30\n",
            "47/47 [==============================] - 326s 7s/step - loss: 0.0375 - accuracy: 0.9913 - val_loss: 0.3422 - val_accuracy: 0.8814\n",
            "Epoch 30/30\n",
            "47/47 [==============================] - 335s 7s/step - loss: 0.0289 - accuracy: 0.9939 - val_loss: 0.3337 - val_accuracy: 0.8814\n",
            "Model takes {} seconds to train  10586.868567943573\n"
          ],
          "name": "stdout"
        }
      ]
    },
    {
      "cell_type": "markdown",
      "metadata": {
        "id": "sUsx68X_PFtl"
      },
      "source": [
        "# 5. Convert Keras model to Tflite & save model"
      ]
    },
    {
      "cell_type": "code",
      "metadata": {
        "colab": {
          "base_uri": "https://localhost:8080/"
        },
        "id": "5p3hDx2HkQkw",
        "outputId": "a47c8772-647a-4125-d19f-39bccc7f8f90"
      },
      "source": [
        "converter = tf.lite.TFLiteConverter.from_keras_model(q_quant_model)\n",
        "converter.optimizations = [tf.lite.Optimize.DEFAULT]\n",
        "quantized_tflite_model = converter.convert()"
      ],
      "execution_count": 11,
      "outputs": [
        {
          "output_type": "stream",
          "text": [
            "WARNING:absl:Found untraced functions such as Conv1_layer_call_and_return_conditional_losses, Conv1_layer_call_fn, Conv1_relu_layer_call_and_return_conditional_losses, Conv1_relu_layer_call_fn, expanded_conv_depthwise_relu_layer_call_and_return_conditional_losses while saving (showing 5 of 415). These functions will not be directly callable after loading.\n",
            "/usr/local/lib/python3.7/dist-packages/tensorflow/python/keras/utils/generic_utils.py:497: CustomMaskWarning: Custom mask layers require a config and must override get_config. When loading, the custom mask layer must be passed to the custom_objects argument.\n",
            "  category=CustomMaskWarning)\n"
          ],
          "name": "stderr"
        },
        {
          "output_type": "stream",
          "text": [
            "INFO:tensorflow:Assets written to: /tmp/tmp8015rwa_/assets\n"
          ],
          "name": "stdout"
        },
        {
          "output_type": "stream",
          "text": [
            "INFO:tensorflow:Assets written to: /tmp/tmp8015rwa_/assets\n"
          ],
          "name": "stderr"
        }
      ]
    },
    {
      "cell_type": "code",
      "metadata": {
        "colab": {
          "base_uri": "https://localhost:8080/"
        },
        "id": "WjNMz9CEkQkx",
        "outputId": "74330d9d-fe56-4bd9-b6b6-372e897fb4eb"
      },
      "source": [
        "with open('w_tflite_model.tflite', 'wb') as f:\n",
        "  f.write(quantized_tflite_model)\n",
        "\n",
        "  !ls -lh w_tflite_model.tflite"
      ],
      "execution_count": 12,
      "outputs": [
        {
          "output_type": "stream",
          "text": [
            "-rw-r--r-- 1 root root 3.3M May 12 18:59 w_tflite_model.tflite\n"
          ],
          "name": "stdout"
        }
      ]
    },
    {
      "cell_type": "markdown",
      "metadata": {
        "id": "0laYNGiaraod"
      },
      "source": [
        "# 6. Compile via edgetpu_compiler"
      ]
    },
    {
      "cell_type": "code",
      "metadata": {
        "id": "oN6gD3zQrvW2",
        "outputId": "2d8442d4-69d0-42ba-877d-296e88aa5088"
      },
      "source": [
        "!edgetpu_compiler ./Tensorflow/tflite/w_tflite_model.tflite -o ./Tensorflow/tflite"
      ],
      "execution_count": null,
      "outputs": [
        {
          "output_type": "stream",
          "text": [
            "Edge TPU Compiler version 15.0.340273435\n",
            "\n",
            "Model compiled successfully in 2575 ms.\n",
            "\n",
            "Input model: ./Tensorflow/tflite/w_tflite_model.tflite\n",
            "Input size: 3.21MiB\n",
            "Output model: ./Tensorflow/tflite/w_tflite_model_edgetpu.tflite\n",
            "Output size: 3.40MiB\n",
            "On-chip memory used for caching model parameters: 3.29MiB\n",
            "On-chip memory remaining for caching model parameters: 3.60MiB\n",
            "Off-chip memory used for streaming uncached model parameters: 0.00B\n",
            "Number of Edge TPU subgraphs: 1\n",
            "Total number of operations: 72\n",
            "Operation log: ./Tensorflow/tflite/w_tflite_model_edgetpu.log\n",
            "\n",
            "Model successfully compiled but not all operations are supported by the Edge TPU. A percentage of the model will instead run on the CPU, which is slower. If possible, consider updating your model to use only operations supported by the Edge TPU. For details, visit g.co/coral/model-reqs.\n",
            "Number of operations that will run on Edge TPU: 70\n",
            "Number of operations that will run on CPU: 2\n",
            "See the operation log file for individual operation details.\n"
          ],
          "name": "stdout"
        }
      ]
    },
    {
      "cell_type": "code",
      "metadata": {
        "id": "rnMixhyPSzs0"
      },
      "source": [
        ""
      ],
      "execution_count": null,
      "outputs": []
    }
  ]
}